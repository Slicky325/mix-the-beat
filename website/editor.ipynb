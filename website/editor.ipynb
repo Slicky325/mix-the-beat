{
 "cells": [
  {
   "cell_type": "code",
   "execution_count": 3,
   "metadata": {},
   "outputs": [],
   "source": [
    "import numpy as np \n",
    "import pandas as pd\n",
    "import librosa\n",
    "import matplotlib.pylab as plt\n",
    "import IPython.display as ipd\n",
    "from PIL import Image"
   ]
  },
  {
   "cell_type": "code",
   "execution_count": 4,
   "metadata": {},
   "outputs": [
    {
     "name": "stdout",
     "output_type": "stream",
     "text": [
      "sigmoid_derivative(x) = [0.19661193 0.10499359 0.04517666]\n"
     ]
    }
   ],
   "source": [
    "size = (1025, 430)\n",
    "     \n",
    "\n",
    "style_path = \"\"\n",
    "content_path = \"\"\n",
    "\n",
    "def audio_loader(path):\n",
    "    audio, sr = librosa.load(path)\n",
    "    display(ipd.Audio(audio, rate=22050))\n",
    "    pd.Series(audio).plot(figsize=(15,3), lw=1)\n",
    "    plt.show()\n",
    "    return audio, sr\n",
    "\n",
    "\n",
    "     \n",
    "content, sr = audio_loader(content_path)\n",
    "style, _ = audio_loader(style_path)"
   ]
  }
 ],
 "metadata": {
  "kernelspec": {
   "display_name": "Python 3",
   "language": "python",
   "name": "python3"
  },
  "language_info": {
   "codemirror_mode": {
    "name": "ipython",
    "version": 3
   },
   "file_extension": ".py",
   "mimetype": "text/x-python",
   "name": "python",
   "nbconvert_exporter": "python",
   "pygments_lexer": "ipython3",
   "version": "3.11.5"
  }
 },
 "nbformat": 4,
 "nbformat_minor": 2
}
